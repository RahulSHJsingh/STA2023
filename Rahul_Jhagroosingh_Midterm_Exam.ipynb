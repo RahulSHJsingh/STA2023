{
  "nbformat": 4,
  "nbformat_minor": 0,
  "metadata": {
    "colab": {
      "provenance": [],
      "authorship_tag": "ABX9TyNiyuWyOd67JdE+hgWUHVhA",
      "include_colab_link": true
    },
    "kernelspec": {
      "name": "python3",
      "display_name": "Python 3"
    },
    "language_info": {
      "name": "python"
    }
  },
  "cells": [
    {
      "cell_type": "markdown",
      "metadata": {
        "id": "view-in-github",
        "colab_type": "text"
      },
      "source": [
        "<a href=\"https://colab.research.google.com/github/RahulSHJsingh/STA2023/blob/main/Rahul_Jhagroosingh_Midterm_Exam.ipynb\" target=\"_parent\"><img src=\"https://colab.research.google.com/assets/colab-badge.svg\" alt=\"Open In Colab\"/></a>"
      ]
    },
    {
      "cell_type": "code",
      "execution_count": 15,
      "metadata": {
        "id": "uM8GvihLQ1G0"
      },
      "outputs": [],
      "source": [
        "import numpy as np # numpy is a directory with a set of tools\n",
        "import matplotlib.pyplot as plt # matplotlib is also a directory with a set of tools"
      ]
    },
    {
      "cell_type": "code",
      "source": [
        "X = np.array([12,9,20,7,2]) # this is an array of numbers for the Diameters\n",
        "Y = np.array([38,28,63,22,6]) # this is an array of numbers for the Circumferences"
      ],
      "metadata": {
        "id": "1jX81PlgRDjo"
      },
      "execution_count": 16,
      "outputs": []
    },
    {
      "cell_type": "code",
      "source": [
        "plt.plot(X,Y,'g.') # this plots of a graph of x vs y using green dots \n",
        "plt.title('Graph of Circle Diameter vs Circumference') # this is used to title the graph\n",
        "plt.xlabel('Diameters') # this is used to label the x axis\n",
        "plt.ylabel('Circumferences') #this is used to label the y axis\n",
        "plt.plot(X,Y,'r') # this is used to plot the graph "
      ],
      "metadata": {
        "colab": {
          "base_uri": "https://localhost:8080/",
          "height": 312
        },
        "id": "6wstsekSROVz",
        "outputId": "14d5f5c3-b513-42c6-998d-ca0dc69bd42a"
      },
      "execution_count": 45,
      "outputs": [
        {
          "output_type": "execute_result",
          "data": {
            "text/plain": [
              "[<matplotlib.lines.Line2D at 0x7ff4872cb710>]"
            ]
          },
          "metadata": {},
          "execution_count": 45
        },
        {
          "output_type": "display_data",
          "data": {
            "text/plain": [
              "<Figure size 432x288 with 1 Axes>"
            ],
            "image/png": "[encoded data removed]"
          },
          "metadata": {
            "needs_background": "light"
          }
        }
      ]
    },
    {
      "cell_type": "code",
      "source": [
        "m_guess = 0 # this is the initial guess for m\n",
        "b_guess = 0 # this is the initial guess for b"
      ],
      "metadata": {
        "id": "IgfL_kPjRc5M"
      },
      "execution_count": 18,
      "outputs": []
    },
    {
      "cell_type": "code",
      "source": [
        "m_guess * X + b_guess # here we are integrating the guesses into the general equation of a line"
      ],
      "metadata": {
        "colab": {
          "base_uri": "https://localhost:8080/"
        },
        "id": "ugUydTPvSLRa",
        "outputId": "259e7897-518d-46d7-9686-76dbb11fe1ac"
      },
      "execution_count": 19,
      "outputs": [
        {
          "output_type": "execute_result",
          "data": {
            "text/plain": [
              "array([0, 0, 0, 0, 0])"
            ]
          },
          "metadata": {},
          "execution_count": 19
        }
      ]
    },
    {
      "cell_type": "markdown",
      "source": [
        "$y=mx + b$\n",
        "\n",
        "    #This is the general equation of a line"
      ],
      "metadata": {
        "id": "0_f7j3m-S0nQ"
      }
    },
    {
      "cell_type": "code",
      "source": [
        "y_guess = m_guess * X + b_guess # here we are implementing the guesses using the general formula of y = m * x + b"
      ],
      "metadata": {
        "id": "0mhxC-0US4de"
      },
      "execution_count": 20,
      "outputs": []
    },
    {
      "cell_type": "code",
      "source": [
        "y_guess # here we are outputting the variable 'y_guess'"
      ],
      "metadata": {
        "colab": {
          "base_uri": "https://localhost:8080/"
        },
        "id": "pptuJiaSTDSb",
        "outputId": "53a59cb8-402a-4362-b98a-6f497193a5af"
      },
      "execution_count": 21,
      "outputs": [
        {
          "output_type": "execute_result",
          "data": {
            "text/plain": [
              "array([0, 0, 0, 0, 0])"
            ]
          },
          "metadata": {},
          "execution_count": 21
        }
      ]
    },
    {
      "cell_type": "code",
      "source": [
        "y_guess - Y # here we are calculating the difference betweeen our known values and the guesses "
      ],
      "metadata": {
        "colab": {
          "base_uri": "https://localhost:8080/"
        },
        "id": "bk34XCwgTnGn",
        "outputId": "38eef74b-90a6-40d0-afbf-b1d0446f8a7c"
      },
      "execution_count": 22,
      "outputs": [
        {
          "output_type": "execute_result",
          "data": {
            "text/plain": [
              "array([-38, -28, -63, -22,  -6])"
            ]
          },
          "metadata": {},
          "execution_count": 22
        }
      ]
    },
    {
      "cell_type": "code",
      "source": [
        "(y_guess - Y)**2 # here we are squaring the numbers to remove the negative signs (the square of a positive or negative number is positive)"
      ],
      "metadata": {
        "colab": {
          "base_uri": "https://localhost:8080/"
        },
        "id": "M0vqLNKGTpv9",
        "outputId": "ae2571eb-aac8-466e-bd1a-4a910b5c5ad9"
      },
      "execution_count": 23,
      "outputs": [
        {
          "output_type": "execute_result",
          "data": {
            "text/plain": [
              "array([1444,  784, 3969,  484,   36])"
            ]
          },
          "metadata": {},
          "execution_count": 23
        }
      ]
    },
    {
      "cell_type": "code",
      "source": [
        "np.sum((y_guess - Y)**2) # here we are seeing how far off from the actual points we are using the total area"
      ],
      "metadata": {
        "colab": {
          "base_uri": "https://localhost:8080/"
        },
        "id": "na9HZbQoUglK",
        "outputId": "c2f13a99-687e-4689-8572-58ae2eef5af2"
      },
      "execution_count": 24,
      "outputs": [
        {
          "output_type": "execute_result",
          "data": {
            "text/plain": [
              "6717"
            ]
          },
          "metadata": {},
          "execution_count": 24
        }
      ]
    },
    {
      "cell_type": "code",
      "source": [
        "loss = np.sum((y_guess - Y)**2) # here we are storing the sum in the variable 'loss'"
      ],
      "metadata": {
        "id": "cUu6tDUaVJFL"
      },
      "execution_count": 25,
      "outputs": []
    },
    {
      "cell_type": "code",
      "source": [
        "best_loss_so_far = 100000000000 # this is a big number to automatically overwrite the functions\n",
        "\n",
        "m_best = 0 # this variable keeps track of the best m value we have so far\n",
        "b_best = 0 # this variable keeps track of the best b value we have so far \n",
        "\n",
        "for m_guess in np.linspace(-100,100,100): # here we are getting 100 numbers from -100 to 100 for the m_guess\n",
        "    for b_guess in np.linspace(-100,100,100): # here we are getting 100 numbers from -100 to 100 for the b_guess\n",
        "          \n",
        "          y_guess = m_guess * X + b_guess # here we are getting the y guess based on our known variable 'X', the m_guess and the b_guess\n",
        "\n",
        "          loss =np.sum((y_guess - Y)**2) # we are calculating the loss and squaring it to remove the negative signs \n",
        "          \n",
        "          #print(m_guess,b_guess,loss) # here we are displaying the outputing of the best guesss for m, b and the loss\n",
        "\n",
        "          if loss < best_loss_so_far: # here we are checking which is the best respective results from our testing and reassigning the variables\n",
        "              m_best = m_guess # here we are reassigning the best value for m from its guess to its variable by equating it \n",
        "              b_best = b_guess # here we are reassigning the best value for b from its guess to its variable by equating it \n",
        "              best_loss_so_far = loss # here we are reassigning the best loss from the current loss to its variable by equating it \n",
        "\n",
        "print(\"Found better fit:\") # this is outside of the loop and allows us to print the words \"Found better fit:\"\n",
        "print(m_best,b_best,loss) # this is also outside of the loop and prints out the values stored in the variables 'm_best' , 'b_best' and 'loss'"
      ],
      "metadata": {
        "colab": {
          "base_uri": "https://localhost:8080/"
        },
        "id": "8dF7YeOoWiNd",
        "outputId": "209d9d1c-727e-42be-f5e9-c4bb71f6306f"
      },
      "execution_count": 37,
      "outputs": [
        {
          "output_type": "stream",
          "name": "stdout",
          "text": [
            "Found better fit:\n",
            "3.030303030303031 1.0101010101010104 7378517.0\n"
          ]
        }
      ]
    },
    {
      "cell_type": "markdown",
      "source": [
        "The estimated relationship is:\n",
        "\n",
        "$C = ? D + ?$\n",
        "\n",
        "**Answer:**\\\n",
        "C = 3.030303030303031 D + 1.0101010101010104\n",
        "\n",
        "This can also be written as y = mx + b where m is the slope of the graph which is equal to 3.030303030303031 and where b is the intercept which is equal to 1.0101010101010104"
      ],
      "metadata": {
        "id": "4zCAPG3upXN9"
      }
    },
    {
      "cell_type": "markdown",
      "source": [
        "## Part 3: Interpretation\n",
        "\n",
        "Answer the questions in text cells"
      ],
      "metadata": {
        "id": "7FBlUtdwt_hd"
      }
    },
    {
      "cell_type": "markdown",
      "source": [
        "#### Question 1:\n",
        "\n",
        "What do $m$ and $b$ represent in these equations?"
      ],
      "metadata": {
        "id": "9xIvwJhOuGDh"
      }
    },
    {
      "cell_type": "markdown",
      "source": [
        "**Answer:**\\\n",
        "m is the slope of the graph which is equal to 3.030303030303031 and where b is the intercept which is equal to 1.0101010101010104"
      ],
      "metadata": {
        "id": "OC_Ja53Yugfn"
      }
    },
    {
      "cell_type": "markdown",
      "source": [
        "#### Question 2:\n",
        "\n",
        "Guess what the correct values $m$ and $b$ should be."
      ],
      "metadata": {
        "id": "_7xl4z8kubLo"
      }
    },
    {
      "cell_type": "markdown",
      "source": [
        "**Answer:**\\\n",
        " m = 3.030303030303031\\\n",
        " b = 1.0101010101010104\n",
        "\n",
        "\n",
        "\n"
      ],
      "metadata": {
        "id": "Te_52DvOuhZ-"
      }
    },
    {
      "cell_type": "markdown",
      "source": [
        "#### Question 3:\n",
        "\n",
        "Does it make sense to include $b$ in the parameters?"
      ],
      "metadata": {
        "id": "2yrRt2wMubSC"
      }
    },
    {
      "cell_type": "markdown",
      "source": [
        "**Answer:**\\\n",
        "Yes, this is beacuse the y-intercept id not always zero and thus we need to factor in the variable in order to be closest to the accurate value in order to give us the best fit line. It basically has to do with the accuracy of the best fit line."
      ],
      "metadata": {
        "id": "F0gbHr8_uiWi"
      }
    },
    {
      "cell_type": "markdown",
      "source": [
        "## Bonus:\n",
        "\n",
        "These problems are extra credit. You may use any resources, but be sure to explain your code."
      ],
      "metadata": {
        "id": "_3LN79rPujMz"
      }
    },
    {
      "cell_type": "markdown",
      "source": [
        "#### Bonus 1: Plot the squared errors from your line of best fit"
      ],
      "metadata": {
        "id": "wk0Ox4nqvFcT"
      }
    },
    {
      "cell_type": "code",
      "source": [
        "import matplotlib.pyplot as plt\n",
        "import numpy as np\n",
        "from sklearn import linear_model\n",
        "from sklearn.metrics import mean_squared_error, r2_score"
      ],
      "metadata": {
        "id": "ISTwHzEKNyhq"
      },
      "execution_count": 260,
      "outputs": []
    },
    {
      "cell_type": "code",
      "source": [
        "X_train = np.array([12,9,20,7,2]).reshape(-1, 1)\n",
        "y_train = np.array([38,28,63,22,6])\n",
        "X_test =  np.array([6,8,10,12,14]).reshape(-1, 1)\n",
        "y_test =  np.array([19,25,31.5,38,44])"
      ],
      "metadata": {
        "id": "T0qJH_q5N2fG"
      },
      "execution_count": 102,
      "outputs": []
    },
    {
      "cell_type": "code",
      "source": [
        "# Create linear regression object\n",
        "regr = linear_model.LinearRegression()\n",
        "\n",
        "# Train the model using the training sets\n",
        "regr.fit(X_train, y_train)\n",
        "\n",
        "# Make predictions using the testing set\n",
        "y_pred = regr.predict(X_test)\n",
        "\n",
        "# The coefficients\n",
        "print('Coefficients: \\n', regr.coef_) \n",
        "# The mean squared error\n",
        "print('Mean squared error: %.2f'\n",
        "      % mean_squared_error(y_test, y_pred)) \n",
        "# The coefficient of determination: 1 is perfect prediction\n",
        "print('Coefficient of determination: %.2f'\n",
        "      % r2_score(y_test, y_pred))\n",
        "\n",
        "# Plot outputs\n",
        "plt.figure(figsize=(12, 8))\n",
        "plt.scatter(X_test, y_test,  color='black', alpha = 0.5)\n",
        "plt.plot(X_test, y_pred, color='red', linewidth=3, alpha = 0.8)\n",
        "plt.title(\"Fit Errors\")\n",
        "plt.xlabel(\"Diameter\")\n",
        "plt.ylabel(\"Squared Error\")\n",
        "plt.show()"
      ],
      "metadata": {
        "colab": {
          "base_uri": "https://localhost:8080/",
          "height": 582
        },
        "id": "zJhMqXOkN5Bw",
        "outputId": "ad93e996-e02c-47f6-b0ae-ad8717b60a59"
      },
      "execution_count": 285,
      "outputs": [
        {
          "output_type": "stream",
          "name": "stdout",
          "text": [
            "Coefficients: \n",
            " [3.16853933]\n",
            "Mean squared error: 0.02\n",
            "Coefficient of determination: 1.00\n"
          ]
        },
        {
          "output_type": "display_data",
          "data": {
            "text/plain": [
              "<Figure size 864x576 with 1 Axes>"
            ],
            "image/png": "[encoded data removed]"
          },
          "metadata": {
            "needs_background": "light"
          }
        }
      ]
    },
    {
      "cell_type": "code",
      "source": [
        "errors = y_test - y_pred"
      ],
      "metadata": {
        "id": "smXv6UpxXJqr"
      },
      "execution_count": 270,
      "outputs": []
    },
    {
      "cell_type": "code",
      "source": [
        "errors"
      ],
      "metadata": {
        "colab": {
          "base_uri": "https://localhost:8080/"
        },
        "id": "p7fovevMXM0p",
        "outputId": "c6b17dd4-e0fb-4a82-810a-2ebb0c8e3300"
      },
      "execution_count": 271,
      "outputs": [
        {
          "output_type": "execute_result",
          "data": {
            "text/plain": [
              "array([ 0.2741573 , -0.06292135,  0.1       , -0.0741573 ])"
            ]
          },
          "metadata": {},
          "execution_count": 271
        }
      ]
    },
    {
      "cell_type": "code",
      "source": [
        "errors_squared = np.square(y_test - y_pred)"
      ],
      "metadata": {
        "id": "jY1oQAHqQeLt"
      },
      "execution_count": 272,
      "outputs": []
    },
    {
      "cell_type": "code",
      "source": [
        "errors_squared"
      ],
      "metadata": {
        "colab": {
          "base_uri": "https://localhost:8080/"
        },
        "id": "YjDXncQPVlqJ",
        "outputId": "26ffb817-fc2a-493d-ab33-57aabad25a56"
      },
      "execution_count": 273,
      "outputs": [
        {
          "output_type": "execute_result",
          "data": {
            "text/plain": [
              "array([0.07516223, 0.0039591 , 0.01      , 0.00549931])"
            ]
          },
          "metadata": {},
          "execution_count": 273
        }
      ]
    },
    {
      "cell_type": "code",
      "source": [
        "total_errors_squared = np.sum(np.square(y_test - y_pred))"
      ],
      "metadata": {
        "id": "AKnzbR7HQhHf"
      },
      "execution_count": 274,
      "outputs": []
    },
    {
      "cell_type": "code",
      "source": [
        "total_errors_squared"
      ],
      "metadata": {
        "colab": {
          "base_uri": "https://localhost:8080/"
        },
        "id": "5_Fofcq0S4kx",
        "outputId": "bf8165ea-c712-49a6-fcbb-492eee99f6cf"
      },
      "execution_count": 275,
      "outputs": [
        {
          "output_type": "execute_result",
          "data": {
            "text/plain": [
              "0.09462062870849532"
            ]
          },
          "metadata": {},
          "execution_count": 275
        }
      ]
    },
    {
      "cell_type": "code",
      "source": [
        "# mean square error \n",
        "np.square(y_test - y_pred).mean()"
      ],
      "metadata": {
        "colab": {
          "base_uri": "https://localhost:8080/"
        },
        "id": "AmtDbhClN71I",
        "outputId": "996b7d7c-5232-45e5-b478-8c8abb6a8fdd"
      },
      "execution_count": 276,
      "outputs": [
        {
          "output_type": "execute_result",
          "data": {
            "text/plain": [
              "0.02365515717712383"
            ]
          },
          "metadata": {},
          "execution_count": 276
        }
      ]
    },
    {
      "cell_type": "code",
      "source": [
        "# R^2\n",
        "1-(np.square(y_test - y_pred).sum())/np.square(y_test - y_test.mean()).sum()"
      ],
      "metadata": {
        "colab": {
          "base_uri": "https://localhost:8080/"
        },
        "id": "_fctHoApN-Dg",
        "outputId": "87efba05-d3e8-4cf0-837e-904b5dac2573"
      },
      "execution_count": 277,
      "outputs": [
        {
          "output_type": "execute_result",
          "data": {
            "text/plain": [
              "0.9997250898748256"
            ]
          },
          "metadata": {},
          "execution_count": 277
        }
      ]
    },
    {
      "cell_type": "markdown",
      "source": [
        "#### Bonus 2: Plot the errors as a histogram"
      ],
      "metadata": {
        "id": "ojVobjtBwK9o"
      }
    },
    {
      "cell_type": "code",
      "source": [
        "name = ['Errors']\n",
        "errors = np.random.randn(100000,)\n",
        "plt.title(\"Errors\")\n",
        "plt.hist(errors,10);"
      ],
      "metadata": {
        "id": "WJkR3s9kwujU",
        "colab": {
          "base_uri": "https://localhost:8080/",
          "height": 281
        },
        "outputId": "1f0f9237-7b1a-4102-fed1-5442c39dcb0e"
      },
      "execution_count": 286,
      "outputs": [
        {
          "output_type": "display_data",
          "data": {
            "text/plain": [
              "<Figure size 432x288 with 1 Axes>"
            ],
            "image/png": "[encoded data removed]"
          },
          "metadata": {
            "needs_background": "light"
          }
        }
      ]
    },
    {
      "cell_type": "markdown",
      "source": [
        "What distribution does this histogram look like?"
      ],
      "metadata": {
        "id": "k9nm1qADyFiA"
      }
    },
    {
      "cell_type": "markdown",
      "source": [
        "**Answer:**\\\n",
        "A bell curve"
      ],
      "metadata": {
        "id": "r2Vo3k0xyKiK"
      }
    },
    {
      "cell_type": "markdown",
      "source": [
        "#### Bonus 3: Find the circle with the largest error. \n",
        "Hint: use np.max"
      ],
      "metadata": {
        "id": "qfDuImTvrF5V"
      }
    },
    {
      "cell_type": "code",
      "source": [
        "largest_error = np.max(errors)"
      ],
      "metadata": {
        "id": "k7ShpKK6vWrH"
      },
      "execution_count": 279,
      "outputs": []
    },
    {
      "cell_type": "code",
      "source": [
        "largest_error"
      ],
      "metadata": {
        "colab": {
          "base_uri": "https://localhost:8080/"
        },
        "id": "6dFx1icEZUmO",
        "outputId": "0d8eebf0-c10b-4fb7-c614-64c9688eb3cc"
      },
      "execution_count": 280,
      "outputs": [
        {
          "output_type": "execute_result",
          "data": {
            "text/plain": [
              "0.27415730337078514"
            ]
          },
          "metadata": {},
          "execution_count": 280
        }
      ]
    },
    {
      "cell_type": "markdown",
      "source": [
        "#### Bonus 4: Remove the circle with the largest error and run the fit again.\n"
      ],
      "metadata": {
        "id": "oQCq4D4uwZ7I"
      }
    },
    {
      "cell_type": "code",
      "source": [
        "X_train = np.array([12,9,20,7,2]).reshape(-1, 1)\n",
        "y_train = np.array([38,28,63,22,6])\n",
        "X_test =  np.array([6,8,10,14]).reshape(-1, 1)\n",
        "y_test =  np.array([19,25,31.5,44])"
      ],
      "metadata": {
        "id": "eCEWj4vgf336"
      },
      "execution_count": 281,
      "outputs": []
    },
    {
      "cell_type": "code",
      "source": [
        "# Create linear regression object\n",
        "regr = linear_model.LinearRegression()\n",
        "\n",
        "# Train the model using the training sets\n",
        "regr.fit(X_train, y_train)\n",
        "\n",
        "# Make predictions using the testing set\n",
        "y_pred = regr.predict(X_test)\n",
        "\n",
        "# The coefficients\n",
        "print('Coefficients: \\n', regr.coef_)\n",
        "# The mean squared error\n",
        "print('Mean squared error: %.2f'\n",
        "      % mean_squared_error(y_test, y_pred))\n",
        "# The coefficient of determination: 1 is perfect prediction\n",
        "print('Coefficient of determination: %.2f'\n",
        "      % r2_score(y_test, y_pred))\n",
        "\n",
        "# Plot outputs\n",
        "plt.figure(figsize=(12, 8))\n",
        "plt.scatter(X_test, y_test,  color='black', alpha = 0.5)\n",
        "plt.plot(X_test, y_pred, color='red', linewidth=3, alpha = 0.8)\n",
        "plt.title(\"Fit Errors\")\n",
        "plt.xlabel(\"Diameter\")\n",
        "plt.ylabel(\"Squared Error\")\n",
        "plt.show()"
      ],
      "metadata": {
        "colab": {
          "base_uri": "https://localhost:8080/",
          "height": 582
        },
        "id": "zH11b1JvgITP",
        "outputId": "e32d4150-e662-4a0c-8d78-b95c85777e8a"
      },
      "execution_count": 282,
      "outputs": [
        {
          "output_type": "stream",
          "name": "stdout",
          "text": [
            "Coefficients: \n",
            " [3.16853933]\n",
            "Mean squared error: 0.02\n",
            "Coefficient of determination: 1.00\n"
          ]
        },
        {
          "output_type": "display_data",
          "data": {
            "text/plain": [
              "<Figure size 864x576 with 1 Axes>"
            ],
            "image/png": "[encoded data removed]"
          },
          "metadata": {
            "needs_background": "light"
          }
        }
      ]
    },
    {
      "cell_type": "code",
      "source": [
        "error_diff = 0.03 - 0.02"
      ],
      "metadata": {
        "id": "XCve8ErefYZx"
      },
      "execution_count": 283,
      "outputs": []
    },
    {
      "cell_type": "code",
      "source": [
        "error_diff"
      ],
      "metadata": {
        "colab": {
          "base_uri": "https://localhost:8080/"
        },
        "id": "MrW-F4S1hFxp",
        "outputId": "0092baf7-ccc1-4175-ac13-ddb2c68b2151"
      },
      "execution_count": 284,
      "outputs": [
        {
          "output_type": "execute_result",
          "data": {
            "text/plain": [
              "0.009999999999999998"
            ]
          },
          "metadata": {},
          "execution_count": 284
        }
      ]
    },
    {
      "cell_type": "markdown",
      "source": [
        "What is the difference in your error?"
      ],
      "metadata": {
        "id": "V2jyayR-yOvF"
      }
    },
    {
      "cell_type": "markdown",
      "source": [
        "0.009999999999999998"
      ],
      "metadata": {
        "id": "F1ZCdkHyyY9x"
      }
    },
    {
      "cell_type": "markdown",
      "source": [
        "#### Bonus 5: Find and explain a better method of fitting this data"
      ],
      "metadata": {
        "id": "1y-okVy_w22o"
      }
    },
    {
      "cell_type": "markdown",
      "source": [
        "This can be done through linear regression from the sklearn directory"
      ],
      "metadata": {
        "id": "o8hBTyHfbReR"
      }
    }
  ]
}